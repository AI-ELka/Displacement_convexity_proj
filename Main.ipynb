{
 "cells": [
  {
   "attachments": {},
   "cell_type": "markdown",
   "metadata": {},
   "source": [
    "Notons $\\nu$ la mesure image de $\\mu$ par $T$. Par définition de la mesure image, on a :\n",
    "\n",
    "$$\\forall f \\quad \\nu\\text{-intégrable} : \\quad \\int_{\\mathbb{R}} f \\, d\\nu = \\int_{\\mathbb{R}} (f \\circ T) \\, d\\mu = \\int_{\\mathbb{R}} f(x^2) \\cdot \\frac{1}{\\sqrt{2\\pi}} \\exp\\left(\\frac{-x^2}{2}\\right) dx$$\n",
    "\n",
    "Par une intégration par parties, nous obtenons :\n",
    "\n",
    "$$\\int_{\\mathbb{R}} f(x^2) \\cdot \\frac{1}{\\sqrt{2\\pi}} \\exp\\left(\\frac{-x^2}{2}\\right) dx = \\left[ f(x^2) \\cdot \\frac{1}{\\sqrt{2\\pi}} \\exp\\left(\\frac{-x^2}{2}\\right) \\right]_{-\\infty}^{\\infty} - \\int_{\\mathbb{R}} \\left(\\frac{1}{\\sqrt{2\\pi}} \\exp\\left(\\frac{-x^2}{2}\\right)\\right) \\cdot (2x \\cdot f'(x^2)) dx$$\n",
    "\n",
    "En évaluant les bornes et simplifiant les termes, nous avons :\n",
    "\n",
    "$$\\int_{\\mathbb{R}} f(x^2) \\cdot \\frac{1}{\\sqrt{2\\pi}} \\exp\\left(\\frac{-x^2}{2}\\right) dx = \\left[ f(x^2) \\cdot \\frac{1}{\\sqrt{2\\pi}} \\exp\\left(\\frac{-x^2}{2}\\right) \\right]_{-\\infty}^{\\infty} - \\int_{\\mathbb{R}} \\frac{1}{\\sqrt{2\\pi}} \\exp\\left(\\frac{-x^2}{2}\\right) \\cdot (2x \\cdot f'(x^2)) dx$$\n",
    "\n",
    "Comme $f(x^2)$ est défini pour tous les $x$, les termes évalués aux bornes s'annulent, et nous avons :\n",
    "\n",
    "$$\\int_{\\mathbb{R}} f(x^2) \\cdot \\frac{1}{\\sqrt{2\\pi}} \\exp\\left(\\frac{-x^2}{2}\\right) dx = - \\int_{\\mathbb{R}} \\frac{1}{\\sqrt{2\\pi}} \\exp\\left(\\frac{-x^2}{2}\\right) \\cdot (2x \\cdot f'(x^2)) dx$$\n",
    "\n",
    "Cependant, pour évaluer cette intégrale, il faudrait connaître les propriétés de la fonction $f(x)$ afin de poursuivre le calcul.\n"
   ]
  },
  {
   "attachments": {},
   "cell_type": "markdown",
   "metadata": {},
   "source": [
    "Notons $\\nu$ la mesure image de $\\mu$ par T .  \n",
    "Par définition de la mesure image on a :   \n",
    "$\\forall f \\quad \\nu-intégrable  : \\quad  \\int_{\\mathbb{R}} f \\, d\\nu = \\int_{\\mathbb{R}} (f \\circ T) \\, d\\mu\n",
    "= \\int_{\\mathbb{R}} f(x^2) \\cdot \\frac{1}{\\sqrt{2\\pi}} \\exp(\\frac{-x^2}{2}) dx $ \n",
    "  \n",
    "Ainsi : $\\nu$ est la loi de densité $x \\mapsto \\frac{1}{\\sqrt{2\\pi x}} \\cdot \\exp(-x)$    "
   ]
  }
 ],
 "metadata": {
  "kernelspec": {
   "display_name": "Python 3",
   "language": "python",
   "name": "python3"
  },
  "language_info": {
   "name": "python",
   "version": "3.9.13"
  },
  "orig_nbformat": 4
 },
 "nbformat": 4,
 "nbformat_minor": 2
}
