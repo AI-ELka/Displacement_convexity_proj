{
 "cells": [
  {
   "cell_type": "code",
   "execution_count": null,
   "metadata": {},
   "outputs": [],
   "source": [
    "import numpy as np\n",
    "import matplotlib.pyplot as plt\n",
    "import numpy.random as npr\n",
    "import scipy.stats as sps"
   ]
  },
  {
   "attachments": {},
   "cell_type": "markdown",
   "metadata": {},
   "source": [
    "Notons $\\nu$ la mesure image de $\\mu$ par T .  \n",
    "Par définition de la mesure image on a :   \n",
    "$\\forall f \\quad \\nu-intégrable  : \\quad  \\int_{\\mathbb{R}} f \\, d\\nu = \\int_{\\mathbb{R}} (f \\circ T) \\, d\\mu\n",
    "= \\int_{\\mathbb{R}} f(x^2) \\cdot \\frac{1}{\\sqrt{2\\pi}} \\exp(\\frac{-x^2}{2}) dx \n",
    "=\\int_{\\mathbb{R}^+} f(x^2) \\cdot \\frac{1}{\\sqrt{2\\pi}} \\exp(\\frac{-x^2}{2}) dx + \\int_{\\mathbb{R}^-} f(x^2) \\cdot \\frac{1}{\\sqrt{2\\pi}} \\exp(\\frac{-x^2}{2}) dx\n",
    "\\stackrel{Parité}{=}2\\int_{\\mathbb{R}^+} f(x^2) \\cdot \\frac{1}{\\sqrt{2\\pi}} \\exp(\\frac{-x^2}{2}) dx \n",
    "\\stackrel{Chgt.var}{=}\\int_{\\mathbb{R}^+} f(x) \\cdot \\frac{1}{\\sqrt{2\\pi x}} \\exp(\\frac{-x}{2}) dx\n",
    "$ \n",
    "\n",
    "  \n",
    "Ainsi : $\\nu$ est la loi de densité $x \\mapsto \\frac{1}{\\sqrt{2\\pi x}} \\cdot \\exp(\\frac{-x}{2}) \\mathbf{1}_{\\mathbb{R}^+}(x)$    "
   ]
  },
  {
   "cell_type": "code",
   "execution_count": null,
   "metadata": {},
   "outputs": [],
   "source": []
  }
 ],
 "metadata": {
  "kernelspec": {
   "display_name": "Python 3",
   "language": "python",
   "name": "python3"
  },
  "language_info": {
   "codemirror_mode": {
    "name": "ipython",
    "version": 3
   },
   "file_extension": ".py",
   "mimetype": "text/x-python",
   "name": "python",
   "nbconvert_exporter": "python",
   "pygments_lexer": "ipython3",
   "version": "3.9.13"
  },
  "orig_nbformat": 4
 },
 "nbformat": 4,
 "nbformat_minor": 2
}
