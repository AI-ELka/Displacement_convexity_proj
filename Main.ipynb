{
 "cells": [
  {
   "attachments": {},
   "cell_type": "markdown",
   "metadata": {},
   "source": [
    "Notons $\\nu$ la mesure image de $\\mu$ par T .  \n",
    "Par définition de la mesure image on a :   \n",
    "$\\forall f \\quad \\nu-intégrable  : \\quad  \\int_{\\mathbb{R}} f \\, d\\nu = \\int_{\\mathbb{R}} (f \\circ T) \\, d\\mu\n",
    "= \\int_{\\mathbb{R}} f(x^2) \\cdot \\frac{1}{\\sqrt{2\\pi}} \\exp(\\frac{-x^2}{2}) dx \n",
    "=\\int_{\\mathbb{R}^+} f(x^2) \\cdot \\frac{1}{\\sqrt{2\\pi}} \\exp(\\frac{-x^2}{2}) dx + \\int_{\\mathbb{R}^-} f(x^2) \\cdot \\frac{1}{\\sqrt{2\\pi}} \\exp(\\frac{-x^2}{2}) dx\n",
    "\\stackrel{Parité}{=}2\\int_{\\mathbb{R}^+} f(x^2) \\cdot \\frac{1}{\\sqrt{2\\pi}} \\exp(\\frac{-x^2}{2}) dx \n",
    "\\stackrel{Chgt.var}{=}\\int_{\\mathbb{R}^+} f(x) \\cdot \\frac{1}{\\sqrt{2\\pi x}} \\exp(\\frac{-x}{2}) dx\n",
    "$ \n",
    "\n",
    "  \n",
    "Ainsi : $\\nu$ est la loi de densité $x \\mapsto \\frac{1}{\\sqrt{2\\pi x}} \\cdot \\exp(\\frac{-x}{2}) \\mathbf{1}_{\\mathbb{R}^+}(x)$    "
   ]
  },
  {
   "cell_type": "code",
   "execution_count": 2,
   "metadata": {},
   "outputs": [],
   "source": [
    "import numpy as np\n",
    "import matplotlib.pyplot as plt\n",
    "import numpy.random as npr\n",
    "import scipy.stats as sps\n"
   ]
  },
  {
   "cell_type": "code",
   "execution_count": 15,
   "metadata": {},
   "outputs": [],
   "source": [
    "fig,ax=plt.subplots(2,2)\n",
    "fig.tight_layout()\n",
    "eps1=0.1\n",
    "eps2=0.01\n",
    "seg1=np.arange(-10,10,eps1)\n",
    "seg2=np.arange(-10,10,eps2)\n",
    "def mass(a,eps):\n",
    "    b = a+eps\n",
    "    if(b<0):\n",
    "        return 0\n",
    "    if(a<0):\n",
    "        a=0\n",
    "    a=np.sqrt(a)\n",
    "    b=np.sqrt(b)\n",
    "    return 2*(sps.norm.cdf(b)-sps.norm.cdf(a))  \n",
    "res1 = np.array([mass(i,eps1) for i in seg1])\n",
    "res2 = np.array([mass(i,eps2) for i in seg2])\n",
    "\n",
    "dens1 = [i/eps1 for i in res1]\n",
    "dens2 = [i/eps2 for i in res2]\n",
    "\n",
    "def funcTheorique(x):\n",
    "    if(x<=0):\n",
    "        return 0\n",
    "    return 1/np.sqrt(2*np.pi*x)*np.exp(-x/2)\n",
    "\n",
    "theo1 = [funcTheorique(i) for i in seg1]\n",
    "theo2 = [funcTheorique(i) for i in seg2]\n",
    "#ax1=plt.subplot(11)\n",
    "#ax2=plt.subplot(12)\n",
    "ax[0,0].bar(seg1,res1,width=eps1)\n",
    "ax[0,0].title.set_text(\"Masse avec Eps = 0.1\")\n",
    "ax[1,0].plot(seg1,dens1,color='red',label=\"~ densité\")\n",
    "ax[1,0].plot(seg1,theo1,color='green',label=\"Densité\")\n",
    "#plt.ylim([0,0.03])\n",
    "ax[0,1].bar(seg2,res2,width=eps2)\n",
    "ax[0,1].title.set_text(\"Masse avec Eps = 0.01\")\n",
    "ax[1,1].plot(seg2,dens2,color='red',label=\"~ densité\")\n",
    "ax[1,1].plot(seg2,theo2,color='green',label=\"Densité\")\n",
    "\n",
    "ax[1,0].legend(loc=\"best\")\n",
    "ax[1,1].legend(loc=\"best\")\n",
    "  "
   ]
  }
 ],
 "metadata": {
  "kernelspec": {
   "display_name": "Python 3",
   "language": "python",
   "name": "python3"
  },
  "language_info": {
   "codemirror_mode": {
    "name": "ipython",
    "version": 3
   },
   "file_extension": ".py",
   "mimetype": "text/x-python",
   "name": "python",
   "nbconvert_exporter": "python",
   "pygments_lexer": "ipython3",
   "version": "3.10.5"
  },
  "orig_nbformat": 4
 },
 "nbformat": 4,
 "nbformat_minor": 2
}
